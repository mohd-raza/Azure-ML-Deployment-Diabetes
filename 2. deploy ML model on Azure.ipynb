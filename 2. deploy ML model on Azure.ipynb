{
 "cells": [
  {
   "cell_type": "code",
   "execution_count": 15,
   "id": "b426e606-d061-43c8-9b3b-328eac49e65d",
   "metadata": {},
   "outputs": [
    {
     "name": "stdout",
     "output_type": "stream",
     "text": [
      "Collecting azureml-sdk==1.56.0\n",
      "  Using cached azureml_sdk-1.56.0-py3-none-any.whl.metadata (3.6 kB)\n",
      "Collecting azureml-core~=1.56.0 (from azureml-sdk==1.56.0)\n",
      "  Using cached azureml_core-1.56.0-py3-none-any.whl.metadata (3.1 kB)\n",
      "Collecting azureml-dataset-runtime~=1.56.0 (from azureml-dataset-runtime[fuse]~=1.56.0->azureml-sdk==1.56.0)\n",
      "  Using cached azureml_dataset_runtime-1.56.0-py3-none-any.whl.metadata (1.2 kB)\n",
      "Collecting azureml-train-core~=1.56.0 (from azureml-sdk==1.56.0)\n",
      "  Using cached azureml_train_core-1.56.0-py3-none-any.whl.metadata (1.7 kB)\n",
      "INFO: pip is looking at multiple versions of azureml-sdk to determine which version is compatible with other requirements. This could take a while.\n"
     ]
    },
    {
     "name": "stderr",
     "output_type": "stream",
     "text": [
      "ERROR: Ignored the following versions that require a different python version: 1.10.0 Requires-Python >=3.5,<3.9; 1.10.0.post1 Requires-Python >=3.5,<3.9; 1.10.0.post2 Requires-Python >=3.5,<3.9; 1.11.0 Requires-Python >=3.5,<3.9; 1.11.0.post1 Requires-Python >=3.5,<3.9; 1.11.0.post2 Requires-Python >=3.5,<3.9; 1.12.0 Requires-Python >=3.5,<3.9; 1.12.0.post1 Requires-Python >=3.5,<3.9; 1.12.0.post2 Requires-Python >=3.5,<3.9; 1.13.0 Requires-Python >=3.5,<3.9; 1.13.0.post1 Requires-Python >=3.5,<3.9; 1.13.0.post2 Requires-Python >=3.5,<3.9; 1.14.0 Requires-Python >=3.5,<3.9; 1.14.0.post1 Requires-Python >=3.5,<3.9; 1.14.0.post2 Requires-Python >=3.5,<3.9; 1.15.0 Requires-Python >=3.5,<3.9; 1.15.0.post1 Requires-Python >=3.5,<3.9; 1.16.0 Requires-Python >=3.5,<3.9; 1.16.0.post1 Requires-Python >=3.5,<3.9; 1.16.0.post2 Requires-Python >=3.5,<3.9; 1.17.0 Requires-Python >=3.5,<3.9; 1.17.0.post1 Requires-Python >=3.5,<3.9; 1.18.0 Requires-Python >=3.5,<3.9; 1.18.0.post1 Requires-Python >=3.5,<3.9; 1.18.0.post2 Requires-Python >=3.5,<3.9; 1.18.0.post3 Requires-Python >=3.5,<3.9; 1.18.0.post4 Requires-Python >=3.5,<3.9; 1.19.0 Requires-Python >=3.5,<3.9; 1.2.0 Requires-Python >=3.5,<3.9; 1.2.0.post1 Requires-Python >=3.5,<3.9; 1.2.0.post2 Requires-Python >=3.5,<3.9; 1.2.0.post3 Requires-Python >=3.5,<3.9; 1.20.0 Requires-Python >=3.5,<3.9; 1.20.0.post1 Requires-Python >=3.5,<3.9; 1.21.0 Requires-Python >=3.5,<3.9; 1.21.0.post1 Requires-Python >=3.5,<3.9; 1.21.0.post2 Requires-Python >=3.5,<3.9; 1.22.0 Requires-Python >=3.5,<3.9; 1.22.0.post1 Requires-Python >=3.5,<3.9; 1.23.0 Requires-Python >=3.5,<3.9; 1.23.0.post1 Requires-Python >=3.5,<3.9; 1.24.0 Requires-Python >=3.5,<3.9; 1.24.0.post1 Requires-Python >=3.5,<3.9; 1.24.0.post2 Requires-Python >=3.5,<3.9; 1.25.0 Requires-Python >=3.5,<3.9; 1.25.0.post1 Requires-Python >=3.5,<3.9; 1.26.0 Requires-Python >=3.5,<3.9; 1.26.0.post1 Requires-Python >=3.5,<3.9; 1.27.0 Requires-Python >=3.5,<3.9; 1.27.0.post1 Requires-Python >=3.5,<3.9; 1.28.0 Requires-Python >=3.5,<3.9; 1.28.0.post1 Requires-Python >=3.5,<3.9; 1.29.0 Requires-Python >=3.6,<3.9; 1.29.0.post1 Requires-Python >=3.6,<3.9; 1.3.0 Requires-Python >=3.5,<3.9; 1.3.0.post1 Requires-Python >=3.5,<3.9; 1.3.0.post2 Requires-Python >=3.5,<3.9; 1.30.0 Requires-Python >=3.6,<3.9; 1.31.0 Requires-Python >=3.6,<3.9; 1.32.0 Requires-Python >=3.6,<3.9; 1.33.0 Requires-Python >=3.6,<3.9; 1.33.0.post1 Requires-Python >=3.6,<3.9; 1.34.0 Requires-Python >=3.6,<3.9; 1.35.0 Requires-Python >=3.6,<3.9; 1.36.0 Requires-Python >=3.6,<3.9; 1.37.0 Requires-Python >=3.6,<3.9; 1.38.0 Requires-Python >=3.6,<3.9; 1.38.0.post2 Requires-Python >=3.6,<3.9; 1.38.0.post3 Requires-Python >=3.6,<3.9; 1.39.0 Requires-Python >=3.6,<3.9; 1.4.0 Requires-Python >=3.5,<3.9; 1.4.0.post1 Requires-Python >=3.5,<3.9; 1.4.0.post2 Requires-Python >=3.5,<3.9; 1.40.0 Requires-Python >=3.6,<3.9; 1.41.0 Requires-Python >=3.6,<3.9; 1.42.0 Requires-Python >=3.6,<3.9; 1.42.0.post1 Requires-Python >=3.6,<3.9; 1.43.0 Requires-Python >=3.6,<3.9; 1.44.0 Requires-Python >=3.6,<3.9; 1.45.0 Requires-Python >=3.6,<3.10; 1.46.0 Requires-Python >=3.6,<3.10; 1.47.0 Requires-Python >=3.6,<3.10; 1.48.0 Requires-Python >=3.7,<3.10; 1.49.0 Requires-Python >=3.7,<3.11; 1.49.0.post1 Requires-Python >=3.7,<3.11; 1.5.0 Requires-Python >=3.5,<3.9; 1.5.0.post1 Requires-Python >=3.5,<3.9; 1.5.0.post2 Requires-Python >=3.5,<3.9; 1.5.0.post3 Requires-Python >=3.5,<3.9; 1.5.0.post4 Requires-Python >=3.5,<3.9; 1.50.0 Requires-Python >=3.7,<3.11; 1.51.0 Requires-Python >=3.7,<3.11; 1.51.0.post1 Requires-Python >=3.7,<3.11; 1.52.0 Requires-Python >=3.7,<3.11; 1.53.0 Requires-Python >=3.7,<3.11; 1.53.2 Requires-Python >=3.7,<3.11; 1.54.0 Requires-Python >=3.7,<3.11; 1.54.0.post1 Requires-Python >=3.7,<3.11; 1.55.0 Requires-Python >=3.7,<3.11; 1.55.0.post1 Requires-Python <3.11,>=3.7; 1.56.0 Requires-Python <3.11,>=3.8; 1.6.0 Requires-Python >=3.5,<3.9; 1.6.0.post1 Requires-Python >=3.5,<3.9; 1.7.0 Requires-Python >=3.5,<3.9; 1.8.0 Requires-Python >=3.5,<3.9; 1.8.0.post1 Requires-Python >=3.5,<3.9; 1.9.0 Requires-Python >=3.5,<3.9; 1.9.0.post1 Requires-Python >=3.5,<3.9\n",
      "ERROR: Could not find a version that satisfies the requirement azureml-train-automl-client~=1.56.0 (from azureml-sdk) (from versions: 1.0rc83, 1.0rc85, 1.0.76, 1.0.79, 1.0.81, 1.0.81.1, 1.0.83, 1.0.85, 1.0.85.1, 1.0.85.2, 1.0.85.3, 1.0.85.4, 1.1.0rc0, 1.1.1rc0, 1.1.2rc0, 1.1.5, 1.1.5.1, 1.1.5.2, 1.2.0, 1.3.0, 1.4.0, 1.5.0, 1.5.0.post1, 1.6.0, 1.6.0.post1, 1.7.0, 1.7.0.post1, 1.8.0, 1.9.0, 1.9.0.post1, 1.10.0, 1.11.0, 1.11.0.post1, 1.12.0, 1.12.0.post1, 1.12.0.post2, 1.13.0, 1.13.0.post1, 1.13.0.post2, 1.14.0, 1.14.0.post1, 1.15.0, 1.15.0.post1, 1.16.0, 1.17.0, 1.18.0)\n",
      "ERROR: No matching distribution found for azureml-train-automl-client~=1.56.0\n"
     ]
    }
   ],
   "source": [
    "!pip install azureml-sdk==1.56.0"
   ]
  },
  {
   "cell_type": "markdown",
   "id": "bde701c0-b13c-490e-8b5d-d28f0f94828e",
   "metadata": {},
   "source": [
    "**Importing the dependencies**"
   ]
  },
  {
   "cell_type": "code",
   "execution_count": 1,
   "id": "00622403-3ce4-49a3-bf79-46b4dd35d6f0",
   "metadata": {},
   "outputs": [],
   "source": [
    "import os\n",
    "import json\n",
    "import requests"
   ]
  },
  {
   "cell_type": "code",
   "execution_count": 2,
   "id": "25b7afcd",
   "metadata": {},
   "outputs": [],
   "source": [
    "from azureml.core import Workspace\n",
    "from azureml.core.model import Model\n",
    "from azureml.core.environment import Environment\n",
    "from azureml.core.conda_dependencies import CondaDependencies\n",
    "from azureml.core.model import InferenceConfig\n",
    "from azureml.core.webservice import AciWebservice, Webservice"
   ]
  },
  {
   "cell_type": "code",
   "execution_count": 3,
   "id": "20511285-c420-4366-a738-e363881489b4",
   "metadata": {},
   "outputs": [],
   "source": [
    "# laoding the configuration file - standard way - use .env file and load_dotenv from python-dotenv module\n",
    "config_file_path = \"config.json\"\n",
    "\n",
    "# Read JSON data into a dictionary\n",
    "with open(config_file_path, 'r') as file:\n",
    "    data = json.load(file)\n",
    "\n",
    "subscription_id = data[\"subscription_id\"]\n",
    "resource_group = data[\"resource_group\"]  \n",
    "workspace_name = data[\"workspace_name\"]\n",
    "region = data[\"region\"]"
   ]
  },
  {
   "cell_type": "code",
   "execution_count": 4,
   "id": "2181b4be-b18b-4f73-936c-b2df905c5c4f",
   "metadata": {},
   "outputs": [
    {
     "name": "stdout",
     "output_type": "stream",
     "text": [
      "ml-model-deploy-raza\n",
      "deploy-ml-model-deploy-raza\n",
      "centralindia\n"
     ]
    }
   ],
   "source": [
    "print(resource_group)\n",
    "print(workspace_name)\n",
    "print(region)"
   ]
  },
  {
   "cell_type": "markdown",
   "id": "1169e424-9325-4eae-bb4a-6cd33ff84db9",
   "metadata": {},
   "source": [
    "**Create a Resource Group from Azure Portal**"
   ]
  },
  {
   "cell_type": "code",
   "execution_count": 5,
   "id": "67ea9e3f-95be-436d-b9de-e395c093b4c6",
   "metadata": {},
   "outputs": [
    {
     "name": "stdout",
     "output_type": "stream",
     "text": [
      "Performing interactive authentication. Please follow the instructions on the terminal.\n"
     ]
    },
    {
     "name": "stderr",
     "output_type": "stream",
     "text": [
      "The default web browser has been opened at https://login.microsoftonline.com/organizations/oauth2/v2.0/authorize. Please continue the login in the web browser. If no web browser is available or if the web browser fails to open, use device code flow with `az login --use-device-code`.\n"
     ]
    },
    {
     "name": "stdout",
     "output_type": "stream",
     "text": [
      "Interactive authentication successfully completed.\n"
     ]
    },
    {
     "name": "stderr",
     "output_type": "stream",
     "text": [
      "UserWarning: The resource group doesn't exist or was not provided. AzureML SDK is creating a resource group=ml-model-deploy-raza in location=centralindia using subscription=070bdce3-4fd6-49e3-8421-54d16492d997.\n"
     ]
    },
    {
     "name": "stdout",
     "output_type": "stream",
     "text": [
      "Deploying KeyVault with name deploymlkeyvault9f93f2d8.\n",
      "Deploying StorageAccount with name deploymlstoragebafd67d85.\n",
      "Deploying AppInsights with name deploymlinsightsc0695029.\n",
      "Deployed AppInsights with name deploymlinsightsc0695029. Took 55.58 seconds.\n",
      "Deploying Workspace with name deploy-ml-model-deploy-raza.\n",
      "Deployed Workspace with name deploy-ml-model-deploy-raza. Took 52.7 seconds.\n",
      "Workspace deploy-ml-model-deploy-raza created\n"
     ]
    }
   ],
   "source": [
    "# Create a workspace\n",
    "\n",
    "ws = Workspace.create(name=workspace_name,\n",
    "                      subscription_id=subscription_id,\n",
    "                      resource_group=resource_group,\n",
    "                      location=region)\n",
    "\n",
    "print(f'Workspace {workspace_name} created')"
   ]
  },
  {
   "cell_type": "code",
   "execution_count": 6,
   "id": "3a59b584-1f6a-4605-99a2-0d9e649d22b9",
   "metadata": {},
   "outputs": [],
   "source": [
    "# Specify the path to your  model file\n",
    "model_path = 'diabetes_model.pkl'"
   ]
  },
  {
   "cell_type": "code",
   "execution_count": 7,
   "id": "4128cd49-48bf-4a97-a931-8d7c391d7e98",
   "metadata": {},
   "outputs": [],
   "source": [
    "model_name='diabetes_prediction_model'"
   ]
  },
  {
   "cell_type": "code",
   "execution_count": 8,
   "id": "383488f6-6d86-4efc-9906-17547c6c5f53",
   "metadata": {},
   "outputs": [
    {
     "name": "stdout",
     "output_type": "stream",
     "text": [
      "Registering model diabetes_prediction_model\n"
     ]
    }
   ],
   "source": [
    "# Register the model in Azure Machine Learning\n",
    "registered_model = Model.register(model_path=model_path, model_name=model_name, workspace=ws)"
   ]
  },
  {
   "cell_type": "code",
   "execution_count": 9,
   "id": "064fbfc8-b4fd-493a-a383-1f7edb86479a",
   "metadata": {},
   "outputs": [],
   "source": [
    "# Create a Conda environment for your scikit-learn model\n",
    "conda_env = Environment('my-conda-env')\n",
    "conda_env.python.conda_dependencies = CondaDependencies.create(conda_packages=['scikit-learn'])"
   ]
  },
  {
   "cell_type": "code",
   "execution_count": 10,
   "id": "1ff71338-a9a9-4b5c-993d-4ac3091db355",
   "metadata": {},
   "outputs": [],
   "source": [
    "# Create an InferenceConfig\n",
    "inference_config = InferenceConfig(entry_script='score.py', environment=conda_env)"
   ]
  },
  {
   "cell_type": "code",
   "execution_count": 11,
   "id": "17ac0a14-c826-4331-9932-7b9d4b185749",
   "metadata": {},
   "outputs": [],
   "source": [
    "# Specify deployment configuration for ACI\n",
    "aci_config = AciWebservice.deploy_configuration(cpu_cores=1, memory_gb=1)"
   ]
  },
  {
   "cell_type": "code",
   "execution_count": 12,
   "id": "2c72d776-7f1e-49ad-8c43-f837b23e8645",
   "metadata": {},
   "outputs": [
    {
     "name": "stderr",
     "output_type": "stream",
     "text": [
      "C:\\Users\\mohdr\\AppData\\Local\\Temp\\ipykernel_21204\\3861565384.py:1: FutureWarning: azureml.core.model:\n",
      "To leverage new model deployment capabilities, AzureML recommends using CLI/SDK v2 to deploy models as online endpoint, \n",
      "please refer to respective documentations \n",
      "https://docs.microsoft.com/azure/machine-learning/how-to-deploy-managed-online-endpoints /\n",
      "https://docs.microsoft.com/azure/machine-learning/how-to-attach-kubernetes-anywhere \n",
      "For more information on migration, see https://aka.ms/acimoemigration \n",
      "To disable CLI/SDK v1 deprecation warning set AZUREML_LOG_DEPRECATION_WARNING_ENABLED to 'False'\n",
      "  service = Model.deploy(workspace=ws,\n"
     ]
    },
    {
     "name": "stdout",
     "output_type": "stream",
     "text": [
      "Tips: You can try get_logs(): https://aka.ms/debugimage#dockerlog or local deployment: https://aka.ms/debugimage#debug-locally to debug if deployment takes longer than 10 minutes.\n",
      "Running\n",
      "2024-06-16 21:02:53+05:30 Creating Container Registry if not exists..\n",
      "2024-06-16 21:12:53+05:30 Registering the environment..\n",
      "2024-06-16 21:12:57+05:30 Building image..\n",
      "2024-06-16 21:38:02+05:30 Generating deployment configuration.\n",
      "2024-06-16 21:38:02+05:30 Submitting deployment to compute..\n",
      "2024-06-16 21:38:10+05:30 Checking the status of deployment diabetes-prediction-service..\n",
      "2024-06-16 21:39:24+05:30 Checking the status of inference endpoint diabetes-prediction-service.\n",
      "Succeeded\n",
      "ACI service creation operation finished, operation \"Succeeded\"\n"
     ]
    }
   ],
   "source": [
    "service = Model.deploy(workspace=ws,\n",
    "                       name='diabetes-prediction-service',\n",
    "                       models=[registered_model],\n",
    "                       inference_config=inference_config,\n",
    "                       deployment_config=aci_config)\n",
    "service.wait_for_deployment(show_output=True)"
   ]
  },
  {
   "cell_type": "code",
   "execution_count": 13,
   "id": "69efb038-ad52-46d0-9f17-5acd96151214",
   "metadata": {},
   "outputs": [],
   "source": [
    "scoring_uri = service.scoring_uri"
   ]
  },
  {
   "cell_type": "code",
   "execution_count": 14,
   "id": "731b0f84-6e1a-4cc9-9497-e958f6efbd73",
   "metadata": {},
   "outputs": [
    {
     "data": {
      "text/plain": [
       "'http://6b36e78e-17cd-44cf-a424-c250f9eb7c54.centralindia.azurecontainer.io/score'"
      ]
     },
     "execution_count": 14,
     "metadata": {},
     "output_type": "execute_result"
    }
   ],
   "source": [
    "scoring_uri"
   ]
  },
  {
   "cell_type": "markdown",
   "id": "d5cafb79-2702-4203-977d-4181247fcbd5",
   "metadata": {},
   "source": [
    "**Cleaning up all the created resources**"
   ]
  },
  {
   "cell_type": "code",
   "execution_count": 15,
   "id": "a1895e4a-551d-4472-99bb-8bc2993c699a",
   "metadata": {},
   "outputs": [
    {
     "name": "stdout",
     "output_type": "stream",
     "text": [
      "Running\n",
      "2024-06-16 21:47:45+05:30 Check and wait for operation (7fc0ff7a-7f8d-434a-8810-c73ca7fc83d0) to finish.\n",
      "2024-06-16 21:47:49+05:30 Deleting service entity.\n",
      "Succeeded\n"
     ]
    }
   ],
   "source": [
    "# Delete the service\n",
    "\n",
    "service_name = \"diabetes-prediction-service\"\n",
    "\n",
    "service = ws.webservices[service_name]\n",
    "service.delete()"
   ]
  },
  {
   "cell_type": "code",
   "execution_count": 16,
   "id": "1f1e57ad-478c-4aed-b33a-08bf3f09632c",
   "metadata": {},
   "outputs": [],
   "source": [
    "# Specify the name of the registered model to delete\n",
    "model_name = 'diabetes_prediction_model'\n",
    "\n",
    "# Delete the model\n",
    "registered_model = ws.models[model_name]\n",
    "registered_model.delete()\n"
   ]
  },
  {
   "cell_type": "code",
   "execution_count": 17,
   "id": "84733dc8-3ddf-47a2-a906-644946a3a888",
   "metadata": {},
   "outputs": [],
   "source": [
    "# Delete the workspace\n",
    "ws.delete(delete_dependent_resources=True)"
   ]
  },
  {
   "cell_type": "markdown",
   "id": "53f91c0a-bad4-4131-9d3a-27901d17e0a8",
   "metadata": {},
   "source": [
    "1. Azure Account with appropriate subscription\n",
    "2. Configuration file that has subscription_id and other details like resource_group name, etc\n",
    "3. Create a resource group from Azure Portal\n",
    "4. Create a workspace\n",
    "5. Register the model in container registry\n",
    "6. Deploy the model as endpoint\n",
    "7. Once done, delete the created resources"
   ]
  },
  {
   "cell_type": "code",
   "execution_count": null,
   "id": "d2588a05-78bf-45f6-8ef2-230e2f116ba0",
   "metadata": {},
   "outputs": [],
   "source": []
  }
 ],
 "metadata": {
  "kernelspec": {
   "display_name": "Python 3 (ipykernel)",
   "language": "python",
   "name": "python3"
  },
  "language_info": {
   "codemirror_mode": {
    "name": "ipython",
    "version": 3
   },
   "file_extension": ".py",
   "mimetype": "text/x-python",
   "name": "python",
   "nbconvert_exporter": "python",
   "pygments_lexer": "ipython3",
   "version": "3.12.4"
  }
 },
 "nbformat": 4,
 "nbformat_minor": 5
}
